{
  "nbformat": 4,
  "nbformat_minor": 0,
  "metadata": {
    "colab": {
      "name": "Material to Cover CHE358-22.ipynb",
      "provenance": [],
      "authorship_tag": "ABX9TyMcxqfs+T432Ec7OD1ZXqRp",
      "include_colab_link": true
    },
    "kernelspec": {
      "name": "python3",
      "display_name": "Python 3"
    },
    "language_info": {
      "name": "python"
    }
  },
  "cells": [
    {
      "cell_type": "markdown",
      "metadata": {
        "id": "view-in-github",
        "colab_type": "text"
      },
      "source": [
        "<a href=\"https://colab.research.google.com/github/TrevorS559/Colab-Notebooks/blob/main/Material_to_Cover_CHE358_22.ipynb\" target=\"_parent\"><img src=\"https://colab.research.google.com/assets/colab-badge.svg\" alt=\"Open In Colab\"/></a>"
      ]
    },
    {
      "cell_type": "markdown",
      "source": [
        "# Weeks 1-2\n",
        "Fall 2022 Semester \\\\\n",
        "\n",
        "Here we have the approximate timing of what we plan to cover this semester\n",
        "## Aug 22 (Mon)- Sep 02 (Fri)"
      ],
      "metadata": {
        "id": "OFzYJDqU-2YX"
      }
    },
    {
      "cell_type": "markdown",
      "source": [
        "Introduction, syllabus review Why learn to code? Why Python?  Suggested course book: Learning Scientific Programming wit Python, 2$^{\\mathrm{nd}}$ Edition. by Christian Hill.\n",
        "\n",
        "1. Syllabus review, Q&A, things you can do when you write your own code\n",
        "\n",
        "2. What is a computer and how does it work?  Binary encoding of information, numbers and characters\n",
        "\n",
        "3. Installing Python on your computer Anaconda Navigator, Spyder IDE and Jupyter and Google Colab.\n",
        "\n",
        "4. Basic Python concepts.  Numbers, variables and logic\n",
        "\n",
        "5. Strings and Formatting\n",
        "\n",
        "6. Lists, Tuples and Strings"
      ],
      "metadata": {
        "id": "6CDx4ZAq-z7K"
      }
    },
    {
      "cell_type": "markdown",
      "source": [
        "# Weeks 3-4\n",
        "## Sept 07 (Wed) - Sept 19 (Mon) "
      ],
      "metadata": {
        "id": "ITm_lwvHAVCR"
      }
    },
    {
      "cell_type": "markdown",
      "source": [
        "After the Labor Day Holiday.  More programming concepts in Python  (Lectures 7-12)\n",
        "\n",
        "1. Flow Control and loops\n",
        "\n",
        "2. Arrays and basic plotting\n",
        "\n",
        "3. More advanced plotting for informative figures\n",
        "\n",
        "4. Some coding problem examples: (a) Calculate $\\pi$ using a Monte-Carlo technique\n",
        "\n",
        "5. (b) Pandemic disease spread modeling\n",
        "\n",
        "6. Reading data from and writing data to files."
      ],
      "metadata": {
        "id": "B8QQJOA-_6Rk"
      }
    },
    {
      "cell_type": "markdown",
      "source": [
        "# Week 5\n",
        "## Sept 21 (Wed) - Sept 26 (Mon)"
      ],
      "metadata": {
        "id": "3qljg7B_AgYk"
      }
    },
    {
      "cell_type": "markdown",
      "source": [
        "Functions in Python the **def** command and more (Lectures 13-15)\n",
        "\n",
        "1. Arguments and returned values\n",
        "\n",
        "2. Data structures and code re-usability\n",
        "\n",
        "3. Continuous versus discrete data and functions"
      ],
      "metadata": {
        "id": "ZJp-2WfNApK-"
      }
    },
    {
      "cell_type": "markdown",
      "source": [
        "# Weeks 6-7"
      ],
      "metadata": {
        "id": "OHWu8Ke3BDkX"
      }
    },
    {
      "cell_type": "markdown",
      "source": [
        "## Sept 28 (Wed) - Oct 12 (Wed)\n",
        "## Mid-Term Exam Scheduled for Oct 7th in regular class time\n",
        "Fourier analysis, derivatives and integration  Lectures 16-21)\n",
        "\n",
        "1. What is a Fourier Transformation?  Decomposition of a square wave signal\n",
        "\n",
        "2. Simple Fourier Transforms in Python, practical issues \n",
        "\n",
        "3. FT of a square wave and pulse signals\n",
        "\n",
        "4. FT of a sawtooth signal and FTIR data\n",
        "\n",
        "5. FT of a high resolution interferogram\n",
        "\n",
        "6. Taylor Series and Numerical Derivatives\n",
        "\n",
        "7. Numerical Integration (22)\n",
        "\n",
        "\n",
        "## Choose and write proposals for your final project in week 7"
      ],
      "metadata": {
        "id": "RBgiPGFXBK9-"
      }
    },
    {
      "cell_type": "markdown",
      "source": [
        "# Weeks 8-9\n",
        " ## Oct 14 (Fri) - Oct 26 (Wed)"
      ],
      "metadata": {
        "id": "Hgr8-upbCO5q"
      }
    },
    {
      "cell_type": "markdown",
      "source": [
        "1. Introduction to Least Squares Fitting\n",
        "\n",
        "2. Least squares examples.\n",
        "\n",
        "3. More Least Squares Fitting-line shapes...\n",
        "\n",
        "4. Fundamentals of Signal Analysis, Fourier Transforms and Filters, baseline removal, etc"
      ],
      "metadata": {
        "id": "aPTr1mtkCVJb"
      }
    },
    {
      "cell_type": "markdown",
      "source": [
        "# Week 10\n",
        "## Oct 28 (Fri) - Nov 04 (Fri)"
      ],
      "metadata": {
        "id": "PbDhGbCrCjLR"
      }
    },
    {
      "cell_type": "markdown",
      "source": [
        "Complex signals, decomposition and deconvolution.   \n",
        "\n",
        "Start final projects. "
      ],
      "metadata": {
        "id": "PdcMrSIeCoXR"
      }
    },
    {
      "cell_type": "markdown",
      "source": [
        "# Week 11\n",
        "## Nov 07 (Mon) - Nov 11 (Fri)\n",
        "Introduction to **GUI programming**, and **using pandas** to deal with large data. \\\\"
      ],
      "metadata": {
        "id": "hfhOahwtvvga"
      }
    },
    {
      "cell_type": "markdown",
      "source": [
        "#Weeks 12-13 (end)\n",
        "## Nov 14 - end of semester\n",
        "Solving ODEs, applications in chemical kinetics \\\\\n",
        "Review of any other topics of interest, work on final project and review for final exam (undergraduates)"
      ],
      "metadata": {
        "id": "rginTJOXwDLi"
      }
    }
  ]
}