{
  "nbformat": 4,
  "nbformat_minor": 0,
  "metadata": {
    "colab": {
      "name": "Lecture_4_2022_Numbers,Variables and Logic.ipynb",
      "provenance": [],
      "toc_visible": true,
      "authorship_tag": "ABX9TyM6/c/9u56y4nOZa6knLzJG",
      "include_colab_link": true
    },
    "kernelspec": {
      "name": "python3",
      "display_name": "Python 3"
    },
    "language_info": {
      "name": "python"
    }
  },
  "cells": [
    {
      "cell_type": "markdown",
      "metadata": {
        "id": "view-in-github",
        "colab_type": "text"
      },
      "source": [
        "<a href=\"https://colab.research.google.com/github/TrevorS559/Colab-Notebooks/blob/main/Lecture_4_2022_Numbers%2CVariables_and_Logic.ipynb\" target=\"_parent\"><img src=\"https://colab.research.google.com/assets/colab-badge.svg\" alt=\"Open In Colab\"/></a>"
      ]
    },
    {
      "cell_type": "markdown",
      "source": [
        "# Lecture 4, basic Python concepts"
      ],
      "metadata": {
        "id": "8s-pfHJBw-JE"
      }
    },
    {
      "cell_type": "markdown",
      "source": [
        "Here we start by looking at syntax, structure and data types in Python.  The Python language has an extensive vocabulary and precise grammar rules.  Some cases require [ ] parentheses, others require ( ) for example and the separators : , ; have specific uses and meanings: the rules are strict.  You may get frustrated when Spyder keeps giving syntax errors at first-it won't run until everything is correct.  These first examples don't involve entering more than a few lines, so we can type them in the Python shell, or as I am doing here, enter then in a Colab, or Jupyter, notebook in a code cell.  In Python, a command entered by typing it in the command line or shell is executed when the Return or Enter key is pressed.  For example, immediately below, I have created a Code cell and I can enter Python commands in it and execute them. Google provides the computers to run the code for you.\n",
        "\n",
        "If you enter commands in the shell or command line, type\n",
        "\n",
        "exit() \n",
        "\n",
        "to leave the shell.  If you do this in the Spyder console, it restarts and comes back after a delay... Your history is preserved."
      ],
      "metadata": {
        "id": "7tgPhjFVxLxN"
      }
    },
    {
      "cell_type": "markdown",
      "source": [
        "# Numbers"
      ],
      "metadata": {
        "id": "wPZeRuNizows"
      }
    },
    {
      "cell_type": "markdown",
      "source": [
        "Numbers are divided into several types: integer, floating point and complex.  \n",
        "\n",
        "Integers are whole numbers, e.g. 2, 5 -71, 5769453, ... There is no limit to their magnitude except by the available memory on your computer.  Integer arithmetic is exact. You can separate strings of numbers in an integer using the underscore for clarity. For example 456_978_543 is the same as 456978543.  \n",
        "\n",
        "Floating point numbers we dscussed in Lecture 2.  They may be expressed as 1.23, -2.99, 5.78E-10 and so on.  Since floating point numbers are stored in binary representation, there is a finite accuracy depending on the length of the memory locations used to store them.  In Python the typical  precision is $10^{-15} - 10^{-16}$. Again, you can separate numbers for clarity, e.g. 2.997_924_58E+08 = 299792458. \n",
        "\n",
        "Complex numbers are those consisting of a real and imaginary part. In Python, the imaginary unit $\\sqrt{-1}$ is labeled $j$.  You can represent complex numbers as, for example 2+3j or by calling the function complex() such as complex(2.3, 5.6).  To enter a purely imaginary number, you need to explicitly enter 0+3.2j, or complex(0, 2.3). "
      ],
      "metadata": {
        "id": "jhDPfZERzm3Q"
      }
    },
    {
      "cell_type": "code",
      "source": [
        "# Get properties of numbers\n",
        "(2 + 3j).real\n",
        "(2 - 3j).imag\n"
      ],
      "metadata": {
        "id": "pPuf-cHHFJWz",
        "colab": {
          "base_uri": "https://localhost:8080/"
        },
        "outputId": "cf94a61f-5bf1-41e8-df3e-94375e421f37"
      },
      "execution_count": null,
      "outputs": [
        {
          "output_type": "execute_result",
          "data": {
            "text/plain": [
              "-3.0"
            ]
          },
          "metadata": {},
          "execution_count": 5
        }
      ]
    },
    {
      "cell_type": "markdown",
      "source": [
        "# Simple Calculator Functions"
      ],
      "metadata": {
        "id": "qiuAlk00Ca_U"
      }
    },
    {
      "cell_type": "code",
      "execution_count": null,
      "metadata": {
        "colab": {
          "base_uri": "https://localhost:8080/"
        },
        "id": "nhZ5mH9cwxE_",
        "outputId": "66373d23-ed0e-4221-c768-ee36ed818d92"
      },
      "outputs": [
        {
          "output_type": "execute_result",
          "data": {
            "text/plain": [
              "-5"
            ]
          },
          "metadata": {},
          "execution_count": 1
        }
      ],
      "source": [
        "# number operations\n",
        "5+3\n",
        "float(5)\n",
        "int(-5.6)\n",
        "complex(0,5.2)\n",
        "complex(3, 2)\n",
        "int(4.7)   # int() rounds down\n",
        "int(-5.6)\n",
        "# Can comment out sections by highlighting with the cursor and pressing Cntrl + /\n",
        "# which puts in a single # at the start of the line(s) or \n",
        "# using a triple single quote  '''.  For example\n",
        "'''int(-61.4)\n",
        "-52.76 + 73.67'''\n",
        "# The block of commented out code appears in a different color\n",
        "#\n"
      ]
    },
    {
      "cell_type": "code",
      "source": [
        "# Mathematical operators\n",
        "4.75/2\n",
        "6/3   # floating point division, answer is a floating point number\n",
        "6//3  # integer division answer is an integer\n",
        "48%7  # modulus operator (remainder)\n",
        "2**5  # exponentiation\n",
        "# (4.5 + 3.5) * 3   # combined operations\n",
        "# Properties of numbers'\n",
        "(3 + 5j).real       # numbers are Python objects (everything is)\n",
        "(3 + 5j).imag\n",
        "(3 + 5j).conjugate()\n",
        "abs(-3.6)\n",
        "abs(3 + 5j)  # different for a complex number..\n",
        "round(4.6)   # note the round() function rounds to the nearest integer, unlike int()\n",
        "round(-4.6)"
      ],
      "metadata": {
        "colab": {
          "base_uri": "https://localhost:8080/"
        },
        "id": "QCJpYm90DuOf",
        "outputId": "eac80d9f-c932-4cf6-8b1d-8147d01b900a"
      },
      "execution_count": null,
      "outputs": [
        {
          "output_type": "execute_result",
          "data": {
            "text/plain": [
              "-5"
            ]
          },
          "metadata": {},
          "execution_count": 7
        }
      ]
    },
    {
      "cell_type": "markdown",
      "source": [
        "By default, Python doesn't contain many standard mathematical functions and to obtain more one has to add **modules**.  Python is a very modular language.  For standard math functions, the module is called **math**.  One needs to excute the command:\n",
        "\n",
        "**import math**\n",
        "\n",
        "toimport the math module , then refer to the functions contained in it using the construction\n",
        "\n",
        "**math.function()**\n",
        "\n",
        "examples include math.sin(), math.sqrt(), math.sin() and so on. The functions take one, or sometimes 2 arguments.  Try it yourself. The comprehensive list of math functions are at:\n",
        "\n",
        "https://docs.python.org/3/library/math.html"
      ],
      "metadata": {
        "id": "pOGe-Fo0mVqH"
      }
    },
    {
      "cell_type": "code",
      "source": [
        "import math\n",
        "math.log(3.2)\n"
      ],
      "metadata": {
        "colab": {
          "base_uri": "https://localhost:8080/"
        },
        "id": "ZJcpItM-nuGc",
        "outputId": "47ea8ba1-3a2d-4f4c-9371-1bf31d87d82d"
      },
      "execution_count": null,
      "outputs": [
        {
          "output_type": "execute_result",
          "data": {
            "text/plain": [
              "1.1631508098056809"
            ]
          },
          "metadata": {},
          "execution_count": 8
        }
      ]
    },
    {
      "cell_type": "code",
      "source": [
        "import math\n",
        "math.sqrt(16)\n",
        "math.sin(math.pi)  # the value of pi is available directly.  This also shows the machine's smallest number (error)"
      ],
      "metadata": {
        "colab": {
          "base_uri": "https://localhost:8080/"
        },
        "id": "5tOrc4ejoHvX",
        "outputId": "7c7b7ad6-a8ad-43cb-9794-21a16ca44beb"
      },
      "execution_count": null,
      "outputs": [
        {
          "output_type": "execute_result",
          "data": {
            "text/plain": [
              "1.2246467991473532e-16"
            ]
          },
          "metadata": {},
          "execution_count": 9
        }
      ]
    },
    {
      "cell_type": "markdown",
      "source": [
        "Look at the examples in the Colab Notebook **Lecture4_2022.py**.  As in most if not all programming languages, the defailt angular coordinate is radians.  Note that when you type ''math''. in the console, a pop up bubble will come up with hints for commands that may follow.  This in-line help function is a ubiquitous helpful feature of Python.  "
      ],
      "metadata": {
        "id": "8x-2YdFUoNvw"
      }
    },
    {
      "cell_type": "code",
      "source": [
        "import math\n",
        "math.sin(math.pi/2)\n",
        "# Can specify angles in degrees\n",
        "math.degrees(math.acos(math.sqrt(3)/2))"
      ],
      "metadata": {
        "colab": {
          "base_uri": "https://localhost:8080/"
        },
        "id": "ecFFss9RtP2t",
        "outputId": "bbb7ceeb-b278-46d8-9f01-bbe57760d626"
      },
      "execution_count": null,
      "outputs": [
        {
          "output_type": "execute_result",
          "data": {
            "text/plain": [
              "30.000000000000004"
            ]
          },
          "metadata": {},
          "execution_count": 10
        }
      ]
    },
    {
      "cell_type": "markdown",
      "source": [
        "# Variables"
      ],
      "metadata": {
        "id": "mQ8ddN57uGxS"
      }
    },
    {
      "cell_type": "markdown",
      "source": [
        "An object, such as a mumber is allocated a memory location when it is created in Python.  This memory location is called an address.  In a program, it is useful to be able to refer to a quantity, be it a number or a string such as 'dog' by a name that, ideally, gives some meaningful indication of the nature of the quantity.  Variables serve this function in all computer programming languages."
      ],
      "metadata": {
        "id": "yxN3EkeTuQpG"
      }
    },
    {
      "cell_type": "code",
      "source": [
        "x = 5   # for example\n",
        "y = 0.3 \n",
        "x + y  # simple calculator with variables"
      ],
      "metadata": {
        "id": "o5tX_lZEuIWz",
        "colab": {
          "base_uri": "https://localhost:8080/"
        },
        "outputId": "61639ef0-0ef0-4548-d73f-6d159d518f95"
      },
      "execution_count": null,
      "outputs": [
        {
          "output_type": "execute_result",
          "data": {
            "text/plain": [
              "5.3"
            ]
          },
          "metadata": {},
          "execution_count": 11
        }
      ]
    },
    {
      "cell_type": "markdown",
      "source": [
        "This simple commands above allocates a variable named x a place in memory and assigns the value 5 to it.  Then does the same for a variable y, setting i to 0.3.  We can do lots of operations on variables.  Some examples are below"
      ],
      "metadata": {
        "id": "MA7BluogvMaF"
      }
    },
    {
      "cell_type": "markdown",
      "source": [
        "For something more complicated, consider Problem P2.2.4 in the textbook.    *Compare the computed surface of the earth calculated assuming it is a sphere of radius 6371.0 km compared to a spheroid (i.e. a flattened sphere) with semi-minor axes a = 6378.137 km and c = 6356.752314245 km respectively.  Use the formula*\n",
        "\n",
        "\\begin{equation}\n",
        "S_{obl}\\,=\\,2\\pi a^2 \\left(1 + \\frac{1-e^2}{e}\\mathrm{atanh}(e)\\right)\n",
        "\\end{equation}\n",
        "where $e^2\\,=\\,1-\\frac{c^2}{a^2}$.\n",
        "\n",
        "Note the formula for the surface area of a sphere is\n",
        "\\begin{equation}\n",
        "S_{sphr}\\,=\\,4\\pi r^2\n",
        "\\end{equation}\n",
        "Compute the differnce in surface area when the earth is assumed to be spherical with the larger radius above."
      ],
      "metadata": {
        "id": "RQfYo3JMXRaK"
      }
    },
    {
      "cell_type": "markdown",
      "source": [
        "# Variable Names"
      ],
      "metadata": {
        "id": "ijGHQed8K5OD"
      }
    },
    {
      "cell_type": "markdown",
      "source": [
        "Variable names can be almost anything, see below. But there are some reserved names in Python, such as the names of functions, tnings like \"True\" and \"False\" (without the quotes). Also, \"import\",  \"def\", \"class\", \"return\" and \"while\" for example.  The variables \"i\", \"j\", and \"k\" are normally reserved for integers.  Call your variables something meaningful. For example \"lower_limit\" or \"initial_value\".  \n",
        "\n",
        "Some other rules:  \n",
        "\n",
        "1. Must not start with a number\n",
        "2. They are case sensitive \"time0\" is not the same as \"Time0\"\n",
        "3. Cannot contain a mathematical operator\n"
      ],
      "metadata": {
        "id": "iSD5gefzK0gP"
      }
    },
    {
      "cell_type": "markdown",
      "source": [
        "# Comparisons and Logic"
      ],
      "metadata": {
        "id": "5QaeQPTchCVU"
      }
    },
    {
      "cell_type": "markdown",
      "source": [
        "Python allows you to compare quantities and variables.  Comparisons use different operators, such as > (is greater than),  == (is equal to), != (is not equal to) and so on.  We can work with variables or numbers when using these comparison operators. For example:"
      ],
      "metadata": {
        "id": "Z5ld2bAphKpK"
      }
    },
    {
      "cell_type": "code",
      "source": [
        "3 == 4  # is 3 equal to 4?\n",
        "# False will be the result  Some more examples...\n",
        "1 == 2 \n",
        "5 > 3 \n",
        "# Problems comparing floating point numebrs due to machine precision\n",
        "a = 0.01 \n",
        "b = 0.1**2\n",
        "a == b       # the result will be false due to machine precision\n",
        "# There is a function to get around this math.isclose() \n",
        "import math\n",
        "math.isclose(0.01,0.1**2, rel_tol=0.005)\n",
        "# But it's usually better to avoid comparing floating point numbers...\n",
        "# One can string together logical tests\n",
        "5 > 4 and 1 > 0 \n",
        "5 > 4 or 0 < 1 "
      ],
      "metadata": {
        "id": "cnn3I9Jsh0ZF"
      },
      "execution_count": null,
      "outputs": []
    },
    {
      "cell_type": "code",
      "source": [
        "x = 5\n",
        "# Another integer variable\n",
        "y = 9\n",
        "y-4 == x\n",
        "y-5 == x or y > x   \n",
        "# There are lots of logic operations possible.  \n",
        "# Note that for numerical objects, any non-zero number evaluates as True\n",
        "# and zero evaluates as False.\n",
        "# See examples in Lecture4_2022.py\n"
      ],
      "metadata": {
        "id": "BO2F4r5t0Nau"
      },
      "execution_count": null,
      "outputs": []
    },
    {
      "cell_type": "markdown",
      "source": [
        "Python has a special variable (reserved) called None.  It's used to represent the absence of a defined value. It's useful to avoid default values like -9999 or something when filling a variable or array element with a value that distinguishes it from actual useful numbers or to indicate that i has not been set.  \n",
        "\n",
        "x = None  # evaluates as boolean \"False\"\n",
        "\n",
        "Another issue, the difference between \"===\" and \"is\". If we write\n",
        "\n",
        "a = 8\n",
        "\n",
        "b = a\n",
        "\n",
        "The two variables occupy the same physical address\n",
        "\n",
        "id(a)\n",
        "\n",
        "id(b) # check this, we find the physical address is the same. The consitional \"is\" establishes this, see examples\n"
      ],
      "metadata": {
        "id": "opWTtWFfK2jk"
      }
    },
    {
      "cell_type": "markdown",
      "source": [
        "# Operator order of precedence"
      ],
      "metadata": {
        "id": "wvBENApQR2JW"
      }
    },
    {
      "cell_type": "markdown",
      "source": [
        "Order of precedence of operators.  This can get confusing.  In general * / have higher priority than + - and all have lower priority than **  Expressions are evaluated left to right with the exception of multiple ** operations which go right to left.  See examples in the textbook and try some yourself."
      ],
      "metadata": {
        "id": "OlF-iUd9R9Cw"
      }
    },
    {
      "cell_type": "markdown",
      "source": [
        "# Text Variables and Strings"
      ],
      "metadata": {
        "id": "nRjDHNBwkE2y"
      }
    },
    {
      "cell_type": "markdown",
      "source": [
        "This is a short introduction, we'll do a lot more next time."
      ],
      "metadata": {
        "id": "eAeN367ZzQDP"
      }
    },
    {
      "cell_type": "code",
      "source": [
        "# Text variable and strings.  Let's set up some text variables\n",
        "dog = 'Scout'\n",
        "your_dog = dog \n",
        "#\n",
        "Restaurant = 'Locals' \n",
        "Name = Restaurant     # Name points to the same data See the variable list\n",
        "# can change variable types with no problem\n",
        "Restaurant = 500 \n",
        "# Note that the Name variable still has the value 'Locals'\n",
        "# Type in the console to execute a commnad independently of the script\n",
        "# Modify data attributes using 'methods' on variables\n",
        "lower_dog = dog.lower()\n",
        "upper_dog = dog.upper()\n",
        "new_name = dog.replace('u','o') "
      ],
      "metadata": {
        "id": "cjeHLFBfkB7k"
      },
      "execution_count": null,
      "outputs": []
    }
  ]
}